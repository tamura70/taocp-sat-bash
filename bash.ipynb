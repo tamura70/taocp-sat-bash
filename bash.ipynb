{
 "cells": [
  {
   "cell_type": "code",
   "execution_count": 1,
   "metadata": {},
   "outputs": [
    {
     "name": "stdout",
     "output_type": "stream",
     "text": [
      "Untitled.ipynb\t\t\t\treact-virtualized.ipynb\n",
      "comms-python.ipynb\t\t\tsparkline-divs.ipynb\n",
      "custom-progress-bars.ipynb\t\tsparklines-svg-computing.ipynb\n",
      "emoji-game.ipynb\t\t\tvdom-events-demo.ipynb\n",
      "event-common-properties.ipynb\t\tvdom-events.ipynb\n",
      "exploring-elements.ipynb\t\tvdom-experimental-extension.gif\n",
      "get_event_value.ipynb\t\t\tvdom-experimental-extension.ipynb\n",
      "other-sparklines.ipynb\t\t\tvdom-experimental-extension.mp4\n",
      "progress-bar.ipynb\n"
     ]
    }
   ],
   "source": [
    "ls"
   ]
  },
  {
   "cell_type": "code",
   "execution_count": null,
   "metadata": {},
   "outputs": [],
   "source": []
  }
 ],
 "metadata": {
  "gist_info": {
   "gist_id": null,
   "gist_url": null
  },
  "kernelspec": {
   "display_name": "Bash",
   "language": "bash",
   "name": "bash"
  },
  "language_info": {
   "codemirror_mode": "shell",
   "file_extension": ".sh",
   "mimetype": "text/x-sh",
   "name": "bash"
  }
 },
 "nbformat": 4,
 "nbformat_minor": 2
}
